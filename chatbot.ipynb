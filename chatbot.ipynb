{
  "cells": [
    {
      "cell_type": "code",
      "execution_count": 1,
      "metadata": {
        "colab": {
          "base_uri": "https://localhost:8080/"
        },
        "id": "ss5s0yGoUONa",
        "outputId": "231c5faa-a8f4-414b-9639-0cab06125d4f"
      },
      "outputs": [
        {
          "output_type": "execute_result",
          "data": {
            "text/plain": [
              "True"
            ]
          },
          "metadata": {},
          "execution_count": 1
        }
      ],
      "source": [
        "import pandas as pd\n",
        "import random\n",
        "import string\n",
        "from sklearn.feature_extraction.text import TfidfVectorizer\n",
        "from sklearn.metrics.pairwise import cosine_similarity\n",
        "import nltk\n",
        "from nltk.stem import WordNetLemmatizer\n",
        "\n",
        "# Unduh data NLTK\n",
        "nltk.download('punkt', quiet=True)\n",
        "nltk.download('wordnet', quiet=True)"
      ],
      "id": "ss5s0yGoUONa"
    },
    {
      "cell_type": "code",
      "execution_count": 7,
      "metadata": {
        "id": "IPn0HagRUONc"
      },
      "outputs": [],
      "source": [
        "# Membaca file CSV\n",
        "data = pd.read_csv('virtual_audio_assistant_questions.csv', encoding='utf-8')\n",
        "\n",
        "# Preprocessing\n",
        "lemmer = WordNetLemmatizer()\n",
        "def LemTokens(tokens):\n",
        "    return [lemmer.lemmatize(token) for token in tokens]\n",
        "\n",
        "remove_punct_dict = dict((ord(punct), None) for punct in string.punctuation)\n",
        "def LemNormalize(text):\n",
        "    return LemTokens(nltk.word_tokenize(text.lower().translate(remove_punct_dict)))"
      ],
      "id": "IPn0HagRUONc"
    },
    {
      "cell_type": "code",
      "execution_count": 8,
      "metadata": {
        "id": "0m1zrmvIUONc"
      },
      "outputs": [],
      "source": [
        "# Membuat list pertanyaan dan jawaban dari CSV\n",
        "audio_questions = data['Question'].tolist()\n",
        "audio_answers = data['Answer'].tolist()\n",
        "\n",
        "# Keyword\n",
        "GREETING_INPUTS = (\"halo\", \"hi\", \"hai\", \"hello\", \"hei\")\n",
        "GREETING_RESPONSES = [\n",
        "    \"Halo! Ada yang ingin kamu tanyakan tentang audio?\",\n",
        "    \"Hi! Aku di sini untuk membantu dengan pertanyaan audio kamu.\",\n",
        "    \"Halo, ada perangkat audio yang kamu ingin tahu lebih banyak?\"\n",
        "]\n",
        "\n",
        "def greeting(sentence):\n",
        "    for word in sentence.split():\n",
        "        if word.lower() in GREETING_INPUTS:\n",
        "            return random.choice(GREETING_RESPONSES)"
      ],
      "id": "0m1zrmvIUONc"
    },
    {
      "cell_type": "code",
      "execution_count": 9,
      "metadata": {
        "id": "lE6cfS6FUONd"
      },
      "outputs": [],
      "source": [
        "def build_vsm_responses(user_response):\n",
        "    \"\"\"Menggunakan Vector Space Model untuk mencari kecocokan.\"\"\"\n",
        "    robo_response = ''\n",
        "\n",
        "    # Menambahkan input pengguna ke daftar pertanyaan untuk diproses\n",
        "    audio_questions.append(user_response)\n",
        "\n",
        "    # Membuat representasi vektor TF-IDF\n",
        "    TfidfVec = TfidfVectorizer(tokenizer=LemNormalize, stop_words='english')\n",
        "    tfidf_matrix = TfidfVec.fit_transform(audio_questions)\n",
        "\n",
        "    # Menghitung kesamaan kosinus\n",
        "    cosine_similarities = cosine_similarity(tfidf_matrix[-1], tfidf_matrix)\n",
        "    similarity_scores = cosine_similarities.flatten()\n",
        "    sorted_indices = similarity_scores.argsort()[::-1][1:]\n",
        "\n",
        "    # Mendapatkan hasil terbaik\n",
        "    if similarity_scores[sorted_indices[0]] == 0:\n",
        "        robo_response = \"Maaf, aku belum punya jawaban untuk itu. Coba tanyakan dengan cara lain.\"\n",
        "    else:\n",
        "        best_match_index = sorted_indices[0]\n",
        "        robo_response = audio_answers[best_match_index]\n",
        "\n",
        "    # Menghapus input pengguna dari list pertanyaan untuk menjaga konsistensi data\n",
        "    audio_questions.pop()\n",
        "    return robo_response"
      ],
      "id": "lE6cfS6FUONd"
    },
    {
      "cell_type": "code",
      "execution_count": 10,
      "metadata": {
        "id": "ssgLaunEUONd"
      },
      "outputs": [],
      "source": [
        "ADDITIONAL_RESPONSES = {\n",
        "    \"siapa kamu\": \"Aku adalah asisten virtual Audiophilez. Tanyakan apa saja tentang headphone, speaker, atau pengaturan suara.\",\n",
        "    \"terima kasih\": \"Sama-sama! Aku senang bisa membantu.\",\n",
        "    \"selamat tinggal\": \"Selamat tinggal! Jika butuh saran audio lagi, aku di sini.\",\n",
        "}\n",
        "\n",
        "def response(user_response):\n",
        "    user_response = user_response.lower()\n",
        "    if user_response in ADDITIONAL_RESPONSES:\n",
        "        return ADDITIONAL_RESPONSES[user_response]\n",
        "    if greeting(user_response):\n",
        "        return greeting(user_response)\n",
        "    return build_vsm_responses(user_response)"
      ],
      "id": "ssgLaunEUONd"
    },
    {
      "cell_type": "code",
      "execution_count": 11,
      "metadata": {
        "colab": {
          "base_uri": "https://localhost:8080/"
        },
        "id": "-HDMaPvxUONd",
        "outputId": "0ae39245-4381-4c8d-bdc5-7b2117ca7cc0"
      },
      "outputs": [
        {
          "output_type": "stream",
          "name": "stdout",
          "text": [
            "Halo! Aku adalah asisten virtualmu. Ketik 'selamat tinggal' untuk mengakhiri percakapan.\n",
            "Kamu: selamat tinggal\n",
            "Bot: Selamat tinggal! Senang bisa membantu.\n"
          ]
        }
      ],
      "source": [
        " # Uji coba chatbot\n",
        "print(\"Halo! Aku adalah asisten virtualmu. Ketik 'selamat tinggal' untuk mengakhiri percakapan.\")\n",
        "while True:\n",
        "    user_input = input(\"Kamu: \")\n",
        "    if user_input.lower() == 'selamat tinggal':\n",
        "        print(\"Bot: Selamat tinggal! Senang bisa membantu.\")\n",
        "        break\n",
        "    print(\"Bot:\", response(user_input))"
      ],
      "id": "-HDMaPvxUONd"
    }
  ],
  "metadata": {
    "kernelspec": {
      "display_name": "Python 3",
      "language": "python",
      "name": "python3"
    },
    "language_info": {
      "codemirror_mode": {
        "name": "ipython",
        "version": 3
      },
      "file_extension": ".py",
      "mimetype": "text/x-python",
      "name": "python",
      "nbconvert_exporter": "python",
      "pygments_lexer": "ipython3",
      "version": "3.8.10"
    },
    "colab": {
      "provenance": []
    }
  },
  "nbformat": 4,
  "nbformat_minor": 5
}